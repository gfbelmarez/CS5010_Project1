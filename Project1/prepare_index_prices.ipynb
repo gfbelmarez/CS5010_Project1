{
 "cells": [
  {
   "cell_type": "code",
   "execution_count": 1,
   "metadata": {},
   "outputs": [],
   "source": [
    "import pandas as pd"
   ]
  },
  {
   "cell_type": "code",
   "execution_count": 78,
   "metadata": {},
   "outputs": [],
   "source": [
    "spx = pd.read_csv('./data/SPX_prices.csv')\n",
    "nya = pd.read_csv('./data/NYA_prices.csv')\n",
    "nasdaq = pd.read_csv('./data/NASDAQ_prices.csv')\n",
    "djia = pd.read_csv('./data/DJIA_prices.csv')"
   ]
  },
  {
   "cell_type": "code",
   "execution_count": 79,
   "metadata": {},
   "outputs": [],
   "source": [
    "spx['Ticker'] = 'SPX'\n",
    "nya['Ticker'] = 'NYA'\n",
    "nasdaq['Ticker'] = 'NASDAQ'\n",
    "djia['Ticker'] = 'DJIA'"
   ]
  },
  {
   "cell_type": "code",
   "execution_count": 80,
   "metadata": {},
   "outputs": [
    {
     "name": "stdout",
     "output_type": "stream",
     "text": [
      "Index(['Date', ' Open', ' High', ' Low', ' Close', 'Ticker'], dtype='object')\n"
     ]
    }
   ],
   "source": [
    "# Clean column names\n",
    "# There are ' ' in the names of the columns\n",
    "print(spx.columns)"
   ]
  },
  {
   "cell_type": "code",
   "execution_count": 104,
   "metadata": {},
   "outputs": [],
   "source": [
    "spx = spx.rename(columns = {' Open':'Open', ' High': 'High', ' Low':'Low', ' Close':'Close'})\n",
    "nya = nya.rename(columns = {' Open':'Open', ' High': 'High', ' Low':'Low', ' Close':'Close'})\n",
    "nasdaq = nasdaq.rename(columns = {' Open':'Open', ' High': 'High', ' Low':'Low', ' Close':'Close'})\n",
    "djia = djia.rename(columns = {' Open':'Open', ' High': 'High', ' Low':'Low', ' Close':'Close'})"
   ]
  },
  {
   "cell_type": "code",
   "execution_count": 105,
   "metadata": {},
   "outputs": [
    {
     "name": "stdout",
     "output_type": "stream",
     "text": [
      "Index(['Date', 'Open', 'High', 'Low', 'Close', 'Ticker'], dtype='object')\n"
     ]
    }
   ],
   "source": [
    "# check columns are clean\n",
    "print(spx.columns)"
   ]
  },
  {
   "cell_type": "code",
   "execution_count": 106,
   "metadata": {},
   "outputs": [
    {
     "data": {
      "text/plain": [
       "Date      datetime64[ns]\n",
       "Open             float64\n",
       "High             float64\n",
       "Low              float64\n",
       "Close            float64\n",
       "Ticker            object\n",
       "dtype: object"
      ]
     },
     "execution_count": 106,
     "metadata": {},
     "output_type": "execute_result"
    }
   ],
   "source": [
    "# clean 'Date' column into a Datetime\n",
    "# check all values are numeric columns are float64\n",
    "spx.dtypes"
   ]
  },
  {
   "cell_type": "code",
   "execution_count": 107,
   "metadata": {},
   "outputs": [],
   "source": [
    "# convert Date to datetime\n",
    "spx['Date'] = pd.to_datetime(spx['Date'])\n",
    "nya['Date'] = pd.to_datetime(nya['Date'])\n",
    "nasdaq['Date'] = pd.to_datetime(nasdaq['Date'])\n",
    "djia['Date'] = pd.to_datetime(djia['Date'])"
   ]
  },
  {
   "cell_type": "code",
   "execution_count": 108,
   "metadata": {},
   "outputs": [
    {
     "data": {
      "text/plain": [
       "Date      datetime64[ns]\n",
       "Open             float64\n",
       "High             float64\n",
       "Low              float64\n",
       "Close            float64\n",
       "Ticker            object\n",
       "dtype: object"
      ]
     },
     "execution_count": 108,
     "metadata": {},
     "output_type": "execute_result"
    }
   ],
   "source": [
    "spx.dtypes"
   ]
  },
  {
   "cell_type": "code",
   "execution_count": 121,
   "metadata": {},
   "outputs": [
    {
     "name": "stdout",
     "output_type": "stream",
     "text": [
      "True\n",
      "True\n",
      "True\n",
      "True\n",
      "True\n",
      "True\n",
      "True\n",
      "True\n",
      "True\n",
      "True\n",
      "True\n",
      "True\n",
      "True\n",
      "True\n",
      "True\n",
      "True\n"
     ]
    }
   ],
   "source": [
    "# check all values in Open, High, Low, and Close are floats (integers)\n",
    "for df in [spx, nya, nasdaq, djia]:\n",
    "    print(all(isinstance(x, float) for x in df['Open']))\n",
    "    print(all(isinstance(x, float) for x in df['High']))\n",
    "    print(all(isinstance(x, float) for x in df['Low']))\n",
    "    print(all(isinstance(x, float) for x in df['Close']))"
   ]
  },
  {
   "cell_type": "code",
   "execution_count": 122,
   "metadata": {},
   "outputs": [
    {
     "data": {
      "text/html": [
       "<div>\n",
       "<style scoped>\n",
       "    .dataframe tbody tr th:only-of-type {\n",
       "        vertical-align: middle;\n",
       "    }\n",
       "\n",
       "    .dataframe tbody tr th {\n",
       "        vertical-align: top;\n",
       "    }\n",
       "\n",
       "    .dataframe thead th {\n",
       "        text-align: right;\n",
       "    }\n",
       "</style>\n",
       "<table border=\"1\" class=\"dataframe\">\n",
       "  <thead>\n",
       "    <tr style=\"text-align: right;\">\n",
       "      <th></th>\n",
       "      <th>Open</th>\n",
       "      <th>High</th>\n",
       "      <th>Low</th>\n",
       "      <th>Close</th>\n",
       "    </tr>\n",
       "  </thead>\n",
       "  <tbody>\n",
       "    <tr>\n",
       "      <th>count</th>\n",
       "      <td>147.000000</td>\n",
       "      <td>147.000000</td>\n",
       "      <td>147.000000</td>\n",
       "      <td>147.000000</td>\n",
       "    </tr>\n",
       "    <tr>\n",
       "      <th>mean</th>\n",
       "      <td>3025.521633</td>\n",
       "      <td>3052.753741</td>\n",
       "      <td>2993.838639</td>\n",
       "      <td>3025.359388</td>\n",
       "    </tr>\n",
       "    <tr>\n",
       "      <th>std</th>\n",
       "      <td>268.029786</td>\n",
       "      <td>254.001226</td>\n",
       "      <td>283.330367</td>\n",
       "      <td>268.940134</td>\n",
       "    </tr>\n",
       "    <tr>\n",
       "      <th>min</th>\n",
       "      <td>2290.710000</td>\n",
       "      <td>2300.730000</td>\n",
       "      <td>2191.860000</td>\n",
       "      <td>2237.400000</td>\n",
       "    </tr>\n",
       "    <tr>\n",
       "      <th>25%</th>\n",
       "      <td>2859.270000</td>\n",
       "      <td>2876.680000</td>\n",
       "      <td>2821.020000</td>\n",
       "      <td>2857.945000</td>\n",
       "    </tr>\n",
       "    <tr>\n",
       "      <th>50%</th>\n",
       "      <td>3096.460000</td>\n",
       "      <td>3120.920000</td>\n",
       "      <td>3047.830000</td>\n",
       "      <td>3097.740000</td>\n",
       "    </tr>\n",
       "    <tr>\n",
       "      <th>75%</th>\n",
       "      <td>3238.765000</td>\n",
       "      <td>3258.730000</td>\n",
       "      <td>3221.300000</td>\n",
       "      <td>3244.925000</td>\n",
       "    </tr>\n",
       "    <tr>\n",
       "      <th>max</th>\n",
       "      <td>3380.450000</td>\n",
       "      <td>3393.520000</td>\n",
       "      <td>3378.830000</td>\n",
       "      <td>3386.150000</td>\n",
       "    </tr>\n",
       "  </tbody>\n",
       "</table>\n",
       "</div>"
      ],
      "text/plain": [
       "              Open         High          Low        Close\n",
       "count   147.000000   147.000000   147.000000   147.000000\n",
       "mean   3025.521633  3052.753741  2993.838639  3025.359388\n",
       "std     268.029786   254.001226   283.330367   268.940134\n",
       "min    2290.710000  2300.730000  2191.860000  2237.400000\n",
       "25%    2859.270000  2876.680000  2821.020000  2857.945000\n",
       "50%    3096.460000  3120.920000  3047.830000  3097.740000\n",
       "75%    3238.765000  3258.730000  3221.300000  3244.925000\n",
       "max    3380.450000  3393.520000  3378.830000  3386.150000"
      ]
     },
     "execution_count": 122,
     "metadata": {},
     "output_type": "execute_result"
    }
   ],
   "source": [
    "# visually check data \n",
    "spx.describe()"
   ]
  },
  {
   "cell_type": "code",
   "execution_count": 123,
   "metadata": {},
   "outputs": [
    {
     "data": {
      "text/html": [
       "<div>\n",
       "<style scoped>\n",
       "    .dataframe tbody tr th:only-of-type {\n",
       "        vertical-align: middle;\n",
       "    }\n",
       "\n",
       "    .dataframe tbody tr th {\n",
       "        vertical-align: top;\n",
       "    }\n",
       "\n",
       "    .dataframe thead th {\n",
       "        text-align: right;\n",
       "    }\n",
       "</style>\n",
       "<table border=\"1\" class=\"dataframe\">\n",
       "  <thead>\n",
       "    <tr style=\"text-align: right;\">\n",
       "      <th></th>\n",
       "      <th>Open</th>\n",
       "      <th>High</th>\n",
       "      <th>Low</th>\n",
       "      <th>Close</th>\n",
       "    </tr>\n",
       "  </thead>\n",
       "  <tbody>\n",
       "    <tr>\n",
       "      <th>count</th>\n",
       "      <td>147.000000</td>\n",
       "      <td>147.000000</td>\n",
       "      <td>147.000000</td>\n",
       "      <td>147.000000</td>\n",
       "    </tr>\n",
       "    <tr>\n",
       "      <th>mean</th>\n",
       "      <td>12119.481156</td>\n",
       "      <td>12215.434558</td>\n",
       "      <td>11996.945918</td>\n",
       "      <td>12109.658367</td>\n",
       "    </tr>\n",
       "    <tr>\n",
       "      <th>std</th>\n",
       "      <td>1335.596047</td>\n",
       "      <td>1289.436053</td>\n",
       "      <td>1391.170296</td>\n",
       "      <td>1339.911545</td>\n",
       "    </tr>\n",
       "    <tr>\n",
       "      <th>min</th>\n",
       "      <td>9014.580000</td>\n",
       "      <td>9053.490000</td>\n",
       "      <td>8664.940000</td>\n",
       "      <td>8777.380000</td>\n",
       "    </tr>\n",
       "    <tr>\n",
       "      <th>25%</th>\n",
       "      <td>11155.015000</td>\n",
       "      <td>11250.210000</td>\n",
       "      <td>11054.680000</td>\n",
       "      <td>11136.005000</td>\n",
       "    </tr>\n",
       "    <tr>\n",
       "      <th>50%</th>\n",
       "      <td>12056.210000</td>\n",
       "      <td>12107.950000</td>\n",
       "      <td>11963.500000</td>\n",
       "      <td>12028.910000</td>\n",
       "    </tr>\n",
       "    <tr>\n",
       "      <th>75%</th>\n",
       "      <td>13382.260000</td>\n",
       "      <td>13453.040000</td>\n",
       "      <td>13076.015000</td>\n",
       "      <td>13095.175000</td>\n",
       "    </tr>\n",
       "    <tr>\n",
       "      <th>max</th>\n",
       "      <td>14168.140000</td>\n",
       "      <td>14183.260000</td>\n",
       "      <td>14156.400000</td>\n",
       "      <td>14183.200000</td>\n",
       "    </tr>\n",
       "  </tbody>\n",
       "</table>\n",
       "</div>"
      ],
      "text/plain": [
       "               Open          High           Low         Close\n",
       "count    147.000000    147.000000    147.000000    147.000000\n",
       "mean   12119.481156  12215.434558  11996.945918  12109.658367\n",
       "std     1335.596047   1289.436053   1391.170296   1339.911545\n",
       "min     9014.580000   9053.490000   8664.940000   8777.380000\n",
       "25%    11155.015000  11250.210000  11054.680000  11136.005000\n",
       "50%    12056.210000  12107.950000  11963.500000  12028.910000\n",
       "75%    13382.260000  13453.040000  13076.015000  13095.175000\n",
       "max    14168.140000  14183.260000  14156.400000  14183.200000"
      ]
     },
     "execution_count": 123,
     "metadata": {},
     "output_type": "execute_result"
    }
   ],
   "source": [
    "nya.describe()"
   ]
  },
  {
   "cell_type": "code",
   "execution_count": 124,
   "metadata": {},
   "outputs": [
    {
     "data": {
      "text/html": [
       "<div>\n",
       "<style scoped>\n",
       "    .dataframe tbody tr th:only-of-type {\n",
       "        vertical-align: middle;\n",
       "    }\n",
       "\n",
       "    .dataframe tbody tr th {\n",
       "        vertical-align: top;\n",
       "    }\n",
       "\n",
       "    .dataframe thead th {\n",
       "        text-align: right;\n",
       "    }\n",
       "</style>\n",
       "<table border=\"1\" class=\"dataframe\">\n",
       "  <thead>\n",
       "    <tr style=\"text-align: right;\">\n",
       "      <th></th>\n",
       "      <th>Open</th>\n",
       "      <th>High</th>\n",
       "      <th>Low</th>\n",
       "      <th>Close</th>\n",
       "    </tr>\n",
       "  </thead>\n",
       "  <tbody>\n",
       "    <tr>\n",
       "      <th>count</th>\n",
       "      <td>147.000000</td>\n",
       "      <td>147.000000</td>\n",
       "      <td>147.000000</td>\n",
       "      <td>147.000000</td>\n",
       "    </tr>\n",
       "    <tr>\n",
       "      <th>mean</th>\n",
       "      <td>9156.358435</td>\n",
       "      <td>9255.133129</td>\n",
       "      <td>9059.133333</td>\n",
       "      <td>9167.191769</td>\n",
       "    </tr>\n",
       "    <tr>\n",
       "      <th>std</th>\n",
       "      <td>943.370122</td>\n",
       "      <td>906.568336</td>\n",
       "      <td>965.294479</td>\n",
       "      <td>940.083746</td>\n",
       "    </tr>\n",
       "    <tr>\n",
       "      <th>min</th>\n",
       "      <td>6847.280000</td>\n",
       "      <td>6984.940000</td>\n",
       "      <td>6631.420000</td>\n",
       "      <td>6860.670000</td>\n",
       "    </tr>\n",
       "    <tr>\n",
       "      <th>25%</th>\n",
       "      <td>8667.310000</td>\n",
       "      <td>8735.140000</td>\n",
       "      <td>8548.365000</td>\n",
       "      <td>8621.125000</td>\n",
       "    </tr>\n",
       "    <tr>\n",
       "      <th>50%</th>\n",
       "      <td>9270.610000</td>\n",
       "      <td>9317.250000</td>\n",
       "      <td>9188.560000</td>\n",
       "      <td>9273.400000</td>\n",
       "    </tr>\n",
       "    <tr>\n",
       "      <th>75%</th>\n",
       "      <td>9787.025000</td>\n",
       "      <td>9856.885000</td>\n",
       "      <td>9689.200000</td>\n",
       "      <td>9785.650000</td>\n",
       "    </tr>\n",
       "    <tr>\n",
       "      <th>max</th>\n",
       "      <td>10837.880000</td>\n",
       "      <td>10839.930000</td>\n",
       "      <td>10650.470000</td>\n",
       "      <td>10767.090000</td>\n",
       "    </tr>\n",
       "  </tbody>\n",
       "</table>\n",
       "</div>"
      ],
      "text/plain": [
       "               Open          High           Low         Close\n",
       "count    147.000000    147.000000    147.000000    147.000000\n",
       "mean    9156.358435   9255.133129   9059.133333   9167.191769\n",
       "std      943.370122    906.568336    965.294479    940.083746\n",
       "min     6847.280000   6984.940000   6631.420000   6860.670000\n",
       "25%     8667.310000   8735.140000   8548.365000   8621.125000\n",
       "50%     9270.610000   9317.250000   9188.560000   9273.400000\n",
       "75%     9787.025000   9856.885000   9689.200000   9785.650000\n",
       "max    10837.880000  10839.930000  10650.470000  10767.090000"
      ]
     },
     "execution_count": 124,
     "metadata": {},
     "output_type": "execute_result"
    }
   ],
   "source": [
    "nasdaq.describe()"
   ]
  },
  {
   "cell_type": "code",
   "execution_count": 125,
   "metadata": {},
   "outputs": [
    {
     "data": {
      "text/html": [
       "<div>\n",
       "<style scoped>\n",
       "    .dataframe tbody tr th:only-of-type {\n",
       "        vertical-align: middle;\n",
       "    }\n",
       "\n",
       "    .dataframe tbody tr th {\n",
       "        vertical-align: top;\n",
       "    }\n",
       "\n",
       "    .dataframe thead th {\n",
       "        text-align: right;\n",
       "    }\n",
       "</style>\n",
       "<table border=\"1\" class=\"dataframe\">\n",
       "  <thead>\n",
       "    <tr style=\"text-align: right;\">\n",
       "      <th></th>\n",
       "      <th>Open</th>\n",
       "      <th>High</th>\n",
       "      <th>Low</th>\n",
       "      <th>Close</th>\n",
       "    </tr>\n",
       "  </thead>\n",
       "  <tbody>\n",
       "    <tr>\n",
       "      <th>count</th>\n",
       "      <td>63.000000</td>\n",
       "      <td>63.000000</td>\n",
       "      <td>63.000000</td>\n",
       "      <td>63.000000</td>\n",
       "    </tr>\n",
       "    <tr>\n",
       "      <th>mean</th>\n",
       "      <td>25643.280000</td>\n",
       "      <td>25845.330794</td>\n",
       "      <td>25414.595556</td>\n",
       "      <td>25643.729524</td>\n",
       "    </tr>\n",
       "    <tr>\n",
       "      <th>std</th>\n",
       "      <td>1072.238773</td>\n",
       "      <td>1047.766766</td>\n",
       "      <td>1085.284009</td>\n",
       "      <td>1067.693633</td>\n",
       "    </tr>\n",
       "    <tr>\n",
       "      <th>min</th>\n",
       "      <td>23049.060000</td>\n",
       "      <td>23630.860000</td>\n",
       "      <td>22789.620000</td>\n",
       "      <td>23247.970000</td>\n",
       "    </tr>\n",
       "    <tr>\n",
       "      <th>25%</th>\n",
       "      <td>24967.145000</td>\n",
       "      <td>25329.610000</td>\n",
       "      <td>24812.510000</td>\n",
       "      <td>25005.330000</td>\n",
       "    </tr>\n",
       "    <tr>\n",
       "      <th>50%</th>\n",
       "      <td>25936.450000</td>\n",
       "      <td>26103.280000</td>\n",
       "      <td>25667.680000</td>\n",
       "      <td>25827.360000</td>\n",
       "    </tr>\n",
       "    <tr>\n",
       "      <th>75%</th>\n",
       "      <td>26377.930000</td>\n",
       "      <td>26606.740000</td>\n",
       "      <td>26094.140000</td>\n",
       "      <td>26403.800000</td>\n",
       "    </tr>\n",
       "    <tr>\n",
       "      <th>max</th>\n",
       "      <td>27447.370000</td>\n",
       "      <td>27580.210000</td>\n",
       "      <td>27232.480000</td>\n",
       "      <td>27572.440000</td>\n",
       "    </tr>\n",
       "  </tbody>\n",
       "</table>\n",
       "</div>"
      ],
      "text/plain": [
       "               Open          High           Low         Close\n",
       "count     63.000000     63.000000     63.000000     63.000000\n",
       "mean   25643.280000  25845.330794  25414.595556  25643.729524\n",
       "std     1072.238773   1047.766766   1085.284009   1067.693633\n",
       "min    23049.060000  23630.860000  22789.620000  23247.970000\n",
       "25%    24967.145000  25329.610000  24812.510000  25005.330000\n",
       "50%    25936.450000  26103.280000  25667.680000  25827.360000\n",
       "75%    26377.930000  26606.740000  26094.140000  26403.800000\n",
       "max    27447.370000  27580.210000  27232.480000  27572.440000"
      ]
     },
     "execution_count": 125,
     "metadata": {},
     "output_type": "execute_result"
    }
   ],
   "source": [
    "djia.describe()"
   ]
  },
  {
   "cell_type": "code",
   "execution_count": 137,
   "metadata": {},
   "outputs": [],
   "source": [
    "spx = spx.sort_values('Date').reset_index(drop=True)\n",
    "nya = nya.sort_values('Date').reset_index(drop=True)\n",
    "nasdaq = nasdaq.sort_values('Date').reset_index(drop=True)\n",
    "djia = djia.sort_values('Date').reset_index(drop=True)"
   ]
  },
  {
   "cell_type": "code",
   "execution_count": 143,
   "metadata": {},
   "outputs": [
    {
     "data": {
      "text/plain": [
       "0         NaN\n",
       "1   -0.007060\n",
       "2    0.003533\n",
       "3   -0.002803\n",
       "4    0.004902\n",
       "Name: Close, dtype: float64"
      ]
     },
     "execution_count": 143,
     "metadata": {},
     "output_type": "execute_result"
    }
   ],
   "source": [
    "# check that the pct change was calculated correctly\n",
    "spx['Close'].pct_change().head()"
   ]
  },
  {
   "cell_type": "code",
   "execution_count": 142,
   "metadata": {},
   "outputs": [
    {
     "data": {
      "text/plain": [
       "0    3257.85\n",
       "1    3234.85\n",
       "2    3246.28\n",
       "3    3237.18\n",
       "4    3253.05\n",
       "Name: Close, dtype: float64"
      ]
     },
     "execution_count": 142,
     "metadata": {},
     "output_type": "execute_result"
    }
   ],
   "source": [
    "# (3257.85-3234.85)/3257.85 = -.007060\n",
    "spx['Close'].head()"
   ]
  },
  {
   "cell_type": "code",
   "execution_count": 144,
   "metadata": {},
   "outputs": [],
   "source": [
    "spx['Pct_Change_Close'] = spx['Close'].pct_change()\n",
    "nya['Pct_Change_Close'] = nya['Close'].pct_change()\n",
    "nasdaq['Pct_Change_Close'] = nasdaq['Close'].pct_change()\n",
    "djia['Pct_Change_Close'] = djia['Close'].pct_change()"
   ]
  },
  {
   "cell_type": "code",
   "execution_count": 149,
   "metadata": {},
   "outputs": [
    {
     "data": {
      "text/html": [
       "<div>\n",
       "<style scoped>\n",
       "    .dataframe tbody tr th:only-of-type {\n",
       "        vertical-align: middle;\n",
       "    }\n",
       "\n",
       "    .dataframe tbody tr th {\n",
       "        vertical-align: top;\n",
       "    }\n",
       "\n",
       "    .dataframe thead th {\n",
       "        text-align: right;\n",
       "    }\n",
       "</style>\n",
       "<table border=\"1\" class=\"dataframe\">\n",
       "  <thead>\n",
       "    <tr style=\"text-align: right;\">\n",
       "      <th></th>\n",
       "      <th>Date</th>\n",
       "      <th>Open</th>\n",
       "      <th>High</th>\n",
       "      <th>Low</th>\n",
       "      <th>Close</th>\n",
       "      <th>Ticker</th>\n",
       "      <th>Pct_Change_Close</th>\n",
       "    </tr>\n",
       "  </thead>\n",
       "  <tbody>\n",
       "    <tr>\n",
       "      <th>0</th>\n",
       "      <td>2020-01-02</td>\n",
       "      <td>3244.67</td>\n",
       "      <td>3258.14</td>\n",
       "      <td>3235.53</td>\n",
       "      <td>3257.85</td>\n",
       "      <td>SPX</td>\n",
       "      <td>NaN</td>\n",
       "    </tr>\n",
       "    <tr>\n",
       "      <th>1</th>\n",
       "      <td>2020-01-03</td>\n",
       "      <td>3226.36</td>\n",
       "      <td>3246.15</td>\n",
       "      <td>3222.34</td>\n",
       "      <td>3234.85</td>\n",
       "      <td>SPX</td>\n",
       "      <td>-0.007060</td>\n",
       "    </tr>\n",
       "    <tr>\n",
       "      <th>2</th>\n",
       "      <td>2020-01-06</td>\n",
       "      <td>3217.55</td>\n",
       "      <td>3246.84</td>\n",
       "      <td>3214.64</td>\n",
       "      <td>3246.28</td>\n",
       "      <td>SPX</td>\n",
       "      <td>0.003533</td>\n",
       "    </tr>\n",
       "    <tr>\n",
       "      <th>3</th>\n",
       "      <td>2020-01-07</td>\n",
       "      <td>3241.86</td>\n",
       "      <td>3244.91</td>\n",
       "      <td>3232.43</td>\n",
       "      <td>3237.18</td>\n",
       "      <td>SPX</td>\n",
       "      <td>-0.002803</td>\n",
       "    </tr>\n",
       "    <tr>\n",
       "      <th>4</th>\n",
       "      <td>2020-01-08</td>\n",
       "      <td>3238.59</td>\n",
       "      <td>3267.07</td>\n",
       "      <td>3236.67</td>\n",
       "      <td>3253.05</td>\n",
       "      <td>SPX</td>\n",
       "      <td>0.004902</td>\n",
       "    </tr>\n",
       "  </tbody>\n",
       "</table>\n",
       "</div>"
      ],
      "text/plain": [
       "        Date     Open     High      Low    Close Ticker  Pct_Change_Close\n",
       "0 2020-01-02  3244.67  3258.14  3235.53  3257.85    SPX               NaN\n",
       "1 2020-01-03  3226.36  3246.15  3222.34  3234.85    SPX         -0.007060\n",
       "2 2020-01-06  3217.55  3246.84  3214.64  3246.28    SPX          0.003533\n",
       "3 2020-01-07  3241.86  3244.91  3232.43  3237.18    SPX         -0.002803\n",
       "4 2020-01-08  3238.59  3267.07  3236.67  3253.05    SPX          0.004902"
      ]
     },
     "execution_count": 149,
     "metadata": {},
     "output_type": "execute_result"
    }
   ],
   "source": [
    "spx.head()"
   ]
  },
  {
   "cell_type": "code",
   "execution_count": 152,
   "metadata": {},
   "outputs": [],
   "source": [
    "data = pd.concat([spx.round(4), nya.round(4), nasdaq.round(4), djia.round(4)])"
   ]
  },
  {
   "cell_type": "code",
   "execution_count": 153,
   "metadata": {},
   "outputs": [],
   "source": [
    "data.to_csv('./data/index_prices.csv', index=False)"
   ]
  }
 ],
 "metadata": {
  "kernelspec": {
   "display_name": "Python 3",
   "language": "python",
   "name": "python3"
  },
  "language_info": {
   "codemirror_mode": {
    "name": "ipython",
    "version": 3
   },
   "file_extension": ".py",
   "mimetype": "text/x-python",
   "name": "python",
   "nbconvert_exporter": "python",
   "pygments_lexer": "ipython3",
   "version": "3.6.8"
  }
 },
 "nbformat": 4,
 "nbformat_minor": 2
}
